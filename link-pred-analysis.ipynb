{
 "cells": [
  {
   "cell_type": "code",
   "execution_count": 2,
   "metadata": {},
   "outputs": [],
   "source": [
    "import matplotlib.pyplot as plt\n",
    "from math import isclose\n",
    "from sklearn.decomposition import PCA\n",
    "import os\n",
    "import networkx as nx\n",
    "import numpy as np\n",
    "import pandas as pd\n",
    "from stellargraph import StellarGraph, datasets\n",
    "from stellargraph.data import EdgeSplitter, UnsupervisedSampler\n",
    "from stellargraph.layer import link_classification\n",
    "from tensorflow import keras\n",
    "from collections import Counter\n",
    "import multiprocessing\n",
    "from IPython.display import display, HTML\n",
    "from sklearn.model_selection import train_test_split\n",
    "\n",
    "%matplotlib inline"
   ]
  },
  {
   "cell_type": "markdown",
   "metadata": {},
   "source": [
    "# Load Custom Dataset"
   ]
  },
  {
   "cell_type": "code",
   "execution_count": 3,
   "metadata": {},
   "outputs": [],
   "source": [
    "from networkx.readwrite import json_graph\n",
    "import json"
   ]
  },
  {
   "cell_type": "code",
   "execution_count": 4,
   "metadata": {},
   "outputs": [],
   "source": [
    "def read_json_file(filename):\n",
    "    with open(filename) as f:\n",
    "        js_graph = json.load(f)\n",
    "    return json_graph.node_link_graph(js_graph)"
   ]
  },
  {
   "cell_type": "code",
   "execution_count": 5,
   "metadata": {},
   "outputs": [
    {
     "data": {
      "text/plain": [
       "{'type': 'bus_stop', 'latitude': 1.366365, 'longitude': 103.958641}"
      ]
     },
     "execution_count": 5,
     "metadata": {},
     "output_type": "execute_result"
    }
   ],
   "source": [
    "# %time\n",
    "transport=read_json_file(\"bus_transport_graph_extra_feat.json\")\n",
    "transport.nodes()['78031']"
   ]
  },
  {
   "cell_type": "code",
   "execution_count": 8,
   "metadata": {},
   "outputs": [
    {
     "ename": "ZeroDivisionError",
     "evalue": "division by zero",
     "output_type": "error",
     "traceback": [
      "\u001b[1;31m---------------------------------------------------------------------------\u001b[0m",
      "\u001b[1;31mZeroDivisionError\u001b[0m                         Traceback (most recent call last)",
      "\u001b[1;32m~\\AppData\\Local\\Temp\\ipykernel_14596\\1424166143.py\u001b[0m in \u001b[0;36m<module>\u001b[1;34m\u001b[0m\n\u001b[0;32m     26\u001b[0m         \u001b[0mfl\u001b[0m\u001b[1;33m=\u001b[0m\u001b[1;36m0\u001b[0m\u001b[1;33m\u001b[0m\u001b[1;33m\u001b[0m\u001b[0m\n\u001b[0;32m     27\u001b[0m \u001b[1;33m\u001b[0m\u001b[0m\n\u001b[1;32m---> 28\u001b[1;33m     \u001b[0mnode_data\u001b[0m\u001b[1;33m[\u001b[0m\u001b[1;34m\"feature\"\u001b[0m\u001b[1;33m]\u001b[0m \u001b[1;33m=\u001b[0m \u001b[0mcompute_features\u001b[0m\u001b[1;33m(\u001b[0m\u001b[0mnode_data\u001b[0m\u001b[1;33m[\u001b[0m\u001b[1;34m\"latitude\"\u001b[0m\u001b[1;33m]\u001b[0m\u001b[1;33m,\u001b[0m\u001b[0mnode_data\u001b[0m\u001b[1;33m[\u001b[0m\u001b[1;34m\"longitude\"\u001b[0m\u001b[1;33m]\u001b[0m\u001b[1;33m,\u001b[0m \u001b[0madj_dict\u001b[0m\u001b[1;33m[\u001b[0m\u001b[0mnode_id\u001b[0m\u001b[1;33m]\u001b[0m\u001b[1;33m,\u001b[0m \u001b[0mest\u001b[0m\u001b[1;33m,\u001b[0m \u001b[0mmul\u001b[0m\u001b[1;33m,\u001b[0m \u001b[0mfl\u001b[0m\u001b[1;33m)\u001b[0m\u001b[1;33m\u001b[0m\u001b[1;33m\u001b[0m\u001b[0m\n\u001b[0m\u001b[0;32m     29\u001b[0m \u001b[1;33m\u001b[0m\u001b[0m\n\u001b[0;32m     30\u001b[0m \u001b[1;31m# let's see what some of them look like:\u001b[0m\u001b[1;33m\u001b[0m\u001b[1;33m\u001b[0m\u001b[1;33m\u001b[0m\u001b[0m\n",
      "\u001b[1;32m~\\AppData\\Local\\Temp\\ipykernel_14596\\1424166143.py\u001b[0m in \u001b[0;36mcompute_features\u001b[1;34m(lat, lon, adj_dict, pop_est, pop_mult, flow)\u001b[0m\n\u001b[0;32m      7\u001b[0m     \u001b[0mlnt\u001b[0m\u001b[1;33m=\u001b[0m\u001b[0mlen\u001b[0m\u001b[1;33m(\u001b[0m\u001b[0madj_dict\u001b[0m\u001b[1;33m)\u001b[0m\u001b[1;33m\u001b[0m\u001b[1;33m\u001b[0m\u001b[0m\n\u001b[0;32m      8\u001b[0m     \u001b[0mlnt\u001b[0m\u001b[1;33m=\u001b[0m\u001b[0mmax\u001b[0m\u001b[1;33m(\u001b[0m\u001b[0mlnt\u001b[0m\u001b[1;33m,\u001b[0m \u001b[1;36m1\u001b[0m\u001b[1;33m)\u001b[0m\u001b[1;33m\u001b[0m\u001b[1;33m\u001b[0m\u001b[0m\n\u001b[1;32m----> 9\u001b[1;33m     \u001b[1;32mreturn\u001b[0m \u001b[1;33m[\u001b[0m\u001b[0mflow\u001b[0m\u001b[1;33m/\u001b[0m\u001b[0mlen\u001b[0m\u001b[1;33m(\u001b[0m\u001b[0madj_dict\u001b[0m\u001b[1;33m)\u001b[0m\u001b[1;33m,\u001b[0m \u001b[0mpop_mult\u001b[0m\u001b[1;33m,\u001b[0m \u001b[0mpop_est\u001b[0m\u001b[1;33m/\u001b[0m\u001b[0mlen\u001b[0m\u001b[1;33m(\u001b[0m\u001b[0madj_dict\u001b[0m\u001b[1;33m)\u001b[0m\u001b[1;33m]\u001b[0m\u001b[1;33m\u001b[0m\u001b[1;33m\u001b[0m\u001b[0m\n\u001b[0m\u001b[0;32m     10\u001b[0m \u001b[1;33m\u001b[0m\u001b[0m\n\u001b[0;32m     11\u001b[0m \u001b[1;33m\u001b[0m\u001b[0m\n",
      "\u001b[1;31mZeroDivisionError\u001b[0m: division by zero"
     ]
    }
   ],
   "source": [
    "g_feature_attr = transport.copy()\n",
    "\n",
    "\n",
    "def compute_features(lat, lon, adj_dic, pop_est, pop_mult, flow):\n",
    "    # in general this could compute something based on other features, but for this example,\n",
    "    # we don't have any other features, so we'll just do something basic with the node_id\n",
    "    lnt=len(adj_dic)\n",
    "    lnt=max(lnt, 1)\n",
    "    return [flow/lnt, pop_mult, pop_est/lnt]\n",
    "\n",
    "\n",
    "adj_dict={}\n",
    "for n, ndict in transport.adjacency():\n",
    "    n_list=list(ndict.keys())\n",
    "    adj_dict[n]=n_list\n",
    "# print(adj_dict)\n",
    "\n",
    "for node_id, node_data in g_feature_attr.nodes(data=True):\n",
    "    try:\n",
    "       est= node_data['pop_estimate']\n",
    "       mul=node_data[\"pop_multiplier\"]\n",
    "       fl=node_data[\"avg_flow\"]\n",
    "    except:\n",
    "        est= 0\n",
    "        mul=0\n",
    "        fl=0\n",
    "        \n",
    "    node_data[\"feature\"] = compute_features(node_data[\"latitude\"],node_data[\"longitude\"], adj_dict[node_id], est, mul, fl)\n",
    "    \n",
    "# let's see what some of them look like:\n",
    "g_feature_attr.nodes[\"75009\"]"
   ]
  },
  {
   "cell_type": "code",
   "execution_count": 315,
   "metadata": {},
   "outputs": [
    {
     "name": "stdout",
     "output_type": "stream",
     "text": [
      "StellarDiGraph: Directed multigraph\n",
      " Nodes: 5083, Edges: 7459\n",
      "\n",
      " Node types:\n",
      "  bus_stop: [5083]\n",
      "    Features: float32 vector, length 3\n",
      "    Edge types: bus_stop-bus_route->bus_stop\n",
      "\n",
      " Edge types:\n",
      "    bus_stop-bus_route->bus_stop: [7459]\n",
      "        Weights: range=[0, 37.8], mean=0.797319, std=2.41502\n",
      "        Features: none\n"
     ]
    },
    {
     "name": "stderr",
     "output_type": "stream",
     "text": [
      "c:\\Users\\Kiran\\miniconda3\\envs\\dpenv\\lib\\site-packages\\ipykernel_launcher.py:1: UserWarning: found the following nodes (of type 'bus_stop') without features, using 3-dimensional zero vector: '78031', '78181', '78191', '98111', '98109', '98031', '98041', '98231', '98051', '98061', '98071', '99011', '99021', '99031', '99041', '99139', '99009', '99131', '99049', '99039', ... (4454 more)\n",
      "  \"\"\"Entry point for launching an IPython kernel.\n"
     ]
    }
   ],
   "source": [
    "transport_sg=StellarGraph.from_networkx(g_feature_attr, node_type_default=\"bus_stop\", edge_type_default=\"bus_route\", node_features='feature')\n",
    "print(transport_sg.info())"
   ]
  },
  {
   "cell_type": "code",
   "execution_count": 258,
   "metadata": {},
   "outputs": [
    {
     "name": "stdout",
     "output_type": "stream",
     "text": [
      "** Sampled 745 positive and 745 negative edges. **\n",
      "StellarDiGraph: Directed multigraph\n",
      " Nodes: 5083, Edges: 6714\n",
      "\n",
      " Node types:\n",
      "  bus_stop: [5083]\n",
      "    Features: float32 vector, length 3\n",
      "    Edge types: bus_stop-bus_route->bus_stop\n",
      "\n",
      " Edge types:\n",
      "    bus_stop-bus_route->bus_stop: [6714]\n",
      "        Weights: range=[0, 37.8], mean=0.793715, std=2.38649\n",
      "        Features: none\n",
      "1490 1490\n"
     ]
    }
   ],
   "source": [
    "# Define an edge splitter on the original graph:\n",
    "edge_splitter_graph = EdgeSplitter(transport_sg)\n",
    "\n",
    "# Randomly sample a fraction p=0.1 of all positive links, and same number of negative links, from graph, and obtain the\n",
    "# reduced graph graph_test with the sampled links removed:\n",
    "graph_test, examples_test, labels_test = edge_splitter_graph.train_test_split(\n",
    "    p=0.1, method=\"global\"\n",
    ")\n",
    "\n",
    "print(graph_test.info())\n",
    "print(len(examples_test), len(labels_test))"
   ]
  },
  {
   "cell_type": "code",
   "execution_count": 259,
   "metadata": {},
   "outputs": [
    {
     "name": "stdout",
     "output_type": "stream",
     "text": [
      "** Sampled 671 positive and 671 negative edges. **\n",
      "StellarDiGraph: Directed multigraph\n",
      " Nodes: 5083, Edges: 6043\n",
      "\n",
      " Node types:\n",
      "  bus_stop: [5083]\n",
      "    Features: float32 vector, length 3\n",
      "    Edge types: bus_stop-bus_route->bus_stop\n",
      "\n",
      " Edge types:\n",
      "    bus_stop-bus_route->bus_stop: [6043]\n",
      "        Weights: range=[0, 37.8], mean=0.795151, std=2.40782\n",
      "        Features: none\n",
      "1342 1342\n"
     ]
    }
   ],
   "source": [
    "# Do the same process to compute a training subset from within the test graph\n",
    "edge_splitter_train = EdgeSplitter(graph_test)\n",
    "graph_train, examples, labels = edge_splitter_train.train_test_split(\n",
    "    p=0.1, method=\"global\"\n",
    ")\n",
    "print(graph_train.info())\n",
    "print(len(examples), len(labels))"
   ]
  },
  {
   "cell_type": "code",
   "execution_count": 260,
   "metadata": {},
   "outputs": [
    {
     "data": {
      "text/html": [
       "<div>\n",
       "<style scoped>\n",
       "    .dataframe tbody tr th:only-of-type {\n",
       "        vertical-align: middle;\n",
       "    }\n",
       "\n",
       "    .dataframe tbody tr th {\n",
       "        vertical-align: top;\n",
       "    }\n",
       "\n",
       "    .dataframe thead th {\n",
       "        text-align: right;\n",
       "    }\n",
       "</style>\n",
       "<table border=\"1\" class=\"dataframe\">\n",
       "  <thead>\n",
       "    <tr style=\"text-align: right;\">\n",
       "      <th></th>\n",
       "      <th>Number of Examples</th>\n",
       "      <th>Hidden from</th>\n",
       "      <th>Picked from</th>\n",
       "      <th>Use</th>\n",
       "    </tr>\n",
       "    <tr>\n",
       "      <th>Split</th>\n",
       "      <th></th>\n",
       "      <th></th>\n",
       "      <th></th>\n",
       "      <th></th>\n",
       "    </tr>\n",
       "  </thead>\n",
       "  <tbody>\n",
       "    <tr>\n",
       "      <th>Training Set</th>\n",
       "      <td>1342</td>\n",
       "      <td>Train Graph</td>\n",
       "      <td>Test Graph</td>\n",
       "      <td>Train the Link Classifier</td>\n",
       "    </tr>\n",
       "    <tr>\n",
       "      <th>Test set</th>\n",
       "      <td>1490</td>\n",
       "      <td>Test Graph</td>\n",
       "      <td>Full Graph</td>\n",
       "      <td>Evaluate the best Link Classifier</td>\n",
       "    </tr>\n",
       "  </tbody>\n",
       "</table>\n",
       "</div>"
      ],
      "text/plain": [
       "              Number of Examples  Hidden from Picked from  \\\n",
       "Split                                                       \n",
       "Training Set                1342  Train Graph  Test Graph   \n",
       "Test set                    1490   Test Graph  Full Graph   \n",
       "\n",
       "                                            Use  \n",
       "Split                                            \n",
       "Training Set          Train the Link Classifier  \n",
       "Test set      Evaluate the best Link Classifier  "
      ]
     },
     "execution_count": 260,
     "metadata": {},
     "output_type": "execute_result"
    }
   ],
   "source": [
    "pd.DataFrame(\n",
    "    [\n",
    "        (\n",
    "            \"Training Set\",\n",
    "            len(examples),\n",
    "            \"Train Graph\",\n",
    "            \"Test Graph\",\n",
    "            \"Train the Link Classifier\",\n",
    "        ),\n",
    "        (\n",
    "            \"Test set\",\n",
    "            len(examples_test),\n",
    "            \"Test Graph\",\n",
    "            \"Full Graph\",\n",
    "            \"Evaluate the best Link Classifier\",\n",
    "        ),\n",
    "    ],\n",
    "    columns=(\"Split\", \"Number of Examples\", \"Hidden from\", \"Picked from\", \"Use\"),\n",
    ").set_index(\"Split\")"
   ]
  },
  {
   "cell_type": "markdown",
   "metadata": {},
   "source": [
    "# Model Definitions"
   ]
  },
  {
   "cell_type": "markdown",
   "metadata": {},
   "source": [
    "## embeddings"
   ]
  },
  {
   "cell_type": "code",
   "execution_count": 205,
   "metadata": {},
   "outputs": [],
   "source": [
    "from stellargraph.data import BiasedRandomWalk\n",
    "\n",
    "\n",
    "def create_biased_random_walker(graph, walk_num, walk_length):\n",
    "    # parameter settings for \"p\" and \"q\":\n",
    "    p = 1.0\n",
    "    q = 1.0\n",
    "    return BiasedRandomWalk(graph, n=walk_num, length=walk_length, p=p, q=q)"
   ]
  },
  {
   "cell_type": "code",
   "execution_count": 261,
   "metadata": {},
   "outputs": [],
   "source": [
    "walk_length=10\n",
    "epochs=20\n",
    "batch_size=32"
   ]
  },
  {
   "cell_type": "code",
   "execution_count": 267,
   "metadata": {},
   "outputs": [],
   "source": [
    "from stellargraph.mapper import Attri2VecLinkGenerator, Attri2VecNodeGenerator\n",
    "from stellargraph.layer import Attri2Vec\n",
    "\n",
    "\n",
    "def attri2vec_embedding(graph, name):\n",
    "\n",
    "    # Set the embedding dimension and walk number:\n",
    "    dimension = [128]\n",
    "    walk_number = 4\n",
    "\n",
    "    print(f\"Training Attri2Vec for '{name}':\")\n",
    "\n",
    "    graph_node_list = list(graph.nodes())\n",
    "\n",
    "    # Create the biased random walker to generate random walks\n",
    "    walker = create_biased_random_walker(graph, walk_number, walk_length)\n",
    "\n",
    "    # Create the unsupervised sampler to sample (target, context) pairs from random walks\n",
    "    unsupervised_samples = UnsupervisedSampler(\n",
    "        graph, nodes=graph_node_list, walker=walker\n",
    "    )\n",
    "\n",
    "    # Define an Attri2Vec training generator, which generates batches of training pairs\n",
    "    generator = Attri2VecLinkGenerator(graph, batch_size)\n",
    "\n",
    "    # Create the Attri2Vec model\n",
    "    attri2vec = Attri2Vec(\n",
    "        layer_sizes=dimension, generator=generator, bias=False, normalize=None\n",
    "    )\n",
    "\n",
    "    # Build the model and expose input and output sockets of Attri2Vec, for node pair inputs\n",
    "    x_inp, x_out = attri2vec.in_out_tensors()\n",
    "\n",
    "    # Use the link_classification function to generate the output of the Attri2Vec model\n",
    "    prediction = link_classification(\n",
    "        output_dim=1, output_act=\"sigmoid\", edge_embedding_method=\"ip\"\n",
    "    )(x_out)\n",
    "\n",
    "    # Stack the Attri2Vec encoder and prediction layer into a Keras model, and specify the loss\n",
    "    model = keras.Model(inputs=x_inp, outputs=prediction)\n",
    "    model.compile(\n",
    "        optimizer=keras.optimizers.Adam(lr=1e-3),\n",
    "        loss=keras.losses.binary_crossentropy,\n",
    "        metrics=[keras.metrics.binary_accuracy], \n",
    "    )\n",
    "\n",
    "    # Train the model\n",
    "    model.fit(\n",
    "        generator.flow(unsupervised_samples),\n",
    "        epochs=epochs,\n",
    "        verbose=1,\n",
    "        use_multiprocessing=False,\n",
    "        workers=1,\n",
    "        shuffle=True,\n",
    "    )\n",
    "\n",
    "    # Build the model to predict node representations from node features with the learned Attri2Vec model parameters\n",
    "    x_inp_src = x_inp[0]\n",
    "    x_out_src = x_out[0]\n",
    "    embedding_model = keras.Model(inputs=x_inp_src, outputs=x_out_src)\n",
    "\n",
    "    # Get representations for all nodes in ``graph``\n",
    "    node_gen = Attri2VecNodeGenerator(graph, batch_size).flow(graph_node_list)\n",
    "    node_embeddings = embedding_model.predict(node_gen, workers=1, verbose=0)\n",
    "\n",
    "    def get_embedding(u):\n",
    "        u_index = graph_node_list.index(u)\n",
    "        return node_embeddings[u_index]\n",
    "\n",
    "    return get_embedding"
   ]
  },
  {
   "cell_type": "markdown",
   "metadata": {},
   "source": [
    "## Pipeline"
   ]
  },
  {
   "cell_type": "code",
   "execution_count": 268,
   "metadata": {},
   "outputs": [],
   "source": [
    "from sklearn.pipeline import Pipeline\n",
    "from sklearn.linear_model import LogisticRegressionCV\n",
    "from sklearn.metrics import roc_auc_score\n",
    "from sklearn.preprocessing import StandardScaler\n",
    "\n",
    "\n",
    "# 1. link embeddings\n",
    "def link_examples_to_features(link_examples, transform_node, binary_operator):\n",
    "    return [\n",
    "        binary_operator(transform_node(src), transform_node(dst))\n",
    "        for src, dst in link_examples\n",
    "    ]\n",
    "\n",
    "\n",
    "# 2. training classifier\n",
    "def train_link_prediction_model(\n",
    "    link_examples, link_labels, get_embedding, binary_operator\n",
    "):\n",
    "    clf = link_prediction_classifier()\n",
    "    link_features = link_examples_to_features(\n",
    "        link_examples, get_embedding, binary_operator\n",
    "    )\n",
    "    clf.fit(link_features, link_labels)\n",
    "    return clf\n",
    "\n",
    "\n",
    "def link_prediction_classifier(max_iter=5000):\n",
    "    lr_clf = LogisticRegressionCV(Cs=10, cv=10, scoring=\"roc_auc\", max_iter=max_iter)\n",
    "    return Pipeline(steps=[(\"sc\", StandardScaler()), (\"clf\", lr_clf)])\n",
    "\n",
    "\n",
    "# 3. and 4. evaluate classifier\n",
    "def evaluate_link_prediction_model(\n",
    "    clf, link_examples_test, link_labels_test, get_embedding, binary_operator\n",
    "):\n",
    "    link_features_test = link_examples_to_features(\n",
    "        link_examples_test, get_embedding, binary_operator\n",
    "    )\n",
    "    # print(link_features_test)\n",
    "    score,preds = evaluate_roc_auc(clf, link_features_test, link_labels_test)\n",
    "    \n",
    "    return score,preds\n",
    "\n",
    "\n",
    "def evaluate_roc_auc(clf, link_features, link_labels):\n",
    "    predicted = clf.predict_proba(link_features)\n",
    "    \n",
    "    \n",
    "    # check which class corresponds to positive links\n",
    "    positive_column = list(clf.classes_).index(1)\n",
    "    return roc_auc_score(link_labels, predicted[:, positive_column]),predicted"
   ]
  },
  {
   "cell_type": "code",
   "execution_count": 269,
   "metadata": {},
   "outputs": [],
   "source": [
    "def operator_l2(u, v):\n",
    "    return (u - v) ** 2\n",
    "\n",
    "\n",
    "\n",
    "# def run_link_prediction(binary_operator, embedding_train):\n",
    "#     clf = train_link_prediction_model(\n",
    "#         examples_train, labels_train, embedding_train, binary_operator\n",
    "#     )\n",
    "#     # score, preds, pos_col = evaluate_link_prediction_model(\n",
    "#     #     clf,\n",
    "#     #     examples_model_selection,\n",
    "#     #     labels_model_selection,\n",
    "#     #     embedding_train,\n",
    "#     #     binary_operator,\n",
    "#     # )\n",
    "#     return clf\n",
    "#     return {\n",
    "#         \"classifier\": clf,\n",
    "#         # \"binary_operator\": binary_operator,\n",
    "#         # \"score\": score,\n",
    "#     }\n",
    "\n",
    "\n",
    "# binary_operators = [ operator_l2]"
   ]
  },
  {
   "cell_type": "code",
   "execution_count": 270,
   "metadata": {},
   "outputs": [],
   "source": [
    "def train_and_evaluate(embedding, graph=graph_test):\n",
    "    \n",
    "    embedding_train = embedding(graph, \"Train Graph\")\n",
    "\n",
    "    # Train the link classification model with the learned embedding\n",
    "    clf = train_link_prediction_model(\n",
    "        examples, labels, embedding_train, operator_l2\n",
    "    )\n",
    "    \n",
    "    test_score, preds= evaluate_link_prediction_model(\n",
    "        clf,\n",
    "        examples_test,\n",
    "        labels_test,\n",
    "        embedding_train,\n",
    "        operator_l2)\n",
    "\n",
    "    return embedding_train, clf, test_score, preds"
   ]
  },
  {
   "cell_type": "markdown",
   "metadata": {},
   "source": [
    "# Training"
   ]
  },
  {
   "cell_type": "code",
   "execution_count": 271,
   "metadata": {},
   "outputs": [
    {
     "name": "stdout",
     "output_type": "stream",
     "text": [
      "Training Attri2Vec for 'Train Graph':\n",
      "link_classification: using 'ip' method to combine node embeddings into edge embeddings\n",
      "WARNING:tensorflow:sample_weight modes were coerced from\n",
      "  ...\n",
      "    to  \n",
      "  ['...']\n",
      "Train for 11394 steps\n",
      "Epoch 1/20\n",
      "11394/11394 [==============================] - 104s 9ms/step - loss: 0.7146 - binary_accuracy: 0.5141\n",
      "Epoch 2/20\n",
      "11394/11394 [==============================] - 107s 9ms/step - loss: 0.7148 - binary_accuracy: 0.5203\n",
      "Epoch 3/20\n",
      "11394/11394 [==============================] - 93s 8ms/step - loss: 0.7151 - binary_accuracy: 0.5208\n",
      "Epoch 4/20\n",
      "11394/11394 [==============================] - 95s 8ms/step - loss: 0.7150 - binary_accuracy: 0.5204\n",
      "Epoch 5/20\n",
      "11394/11394 [==============================] - 103s 9ms/step - loss: 0.7149 - binary_accuracy: 0.5221\n",
      "Epoch 6/20\n",
      "11394/11394 [==============================] - 104s 9ms/step - loss: 0.7136 - binary_accuracy: 0.5233\n",
      "Epoch 7/20\n",
      "11394/11394 [==============================] - 98s 9ms/step - loss: 0.7070 - binary_accuracy: 0.5363\n",
      "Epoch 8/20\n",
      "11394/11394 [==============================] - 103s 9ms/step - loss: 0.6985 - binary_accuracy: 0.5550\n",
      "Epoch 9/20\n",
      "11394/11394 [==============================] - 99s 9ms/step - loss: 0.6935 - binary_accuracy: 0.5624\n",
      "Epoch 10/20\n",
      "11394/11394 [==============================] - 96s 8ms/step - loss: 0.6905 - binary_accuracy: 0.5686\n",
      "Epoch 11/20\n",
      "11394/11394 [==============================] - 93s 8ms/step - loss: 0.6891 - binary_accuracy: 0.5702\n",
      "Epoch 12/20\n",
      "11394/11394 [==============================] - 98s 9ms/step - loss: 0.6879 - binary_accuracy: 0.5716\n",
      "Epoch 13/20\n",
      "11394/11394 [==============================] - 95s 8ms/step - loss: 0.6866 - binary_accuracy: 0.5733\n",
      "Epoch 14/20\n",
      "11394/11394 [==============================] - 92s 8ms/step - loss: 0.6860 - binary_accuracy: 0.5742\n",
      "Epoch 15/20\n",
      "11394/11394 [==============================] - 97s 9ms/step - loss: 0.6857 - binary_accuracy: 0.5733\n",
      "Epoch 16/20\n",
      "11394/11394 [==============================] - 98s 9ms/step - loss: 0.6851 - binary_accuracy: 0.5743\n",
      "Epoch 17/20\n",
      "11394/11394 [==============================] - 97s 9ms/step - loss: 0.6849 - binary_accuracy: 0.5734\n",
      "Epoch 18/20\n",
      "11394/11394 [==============================] - 86s 8ms/step - loss: 0.6846 - binary_accuracy: 0.5746\n",
      "Epoch 19/20\n",
      "11394/11394 [==============================] - 86s 8ms/step - loss: 0.6844 - binary_accuracy: 0.5738\n",
      "Epoch 20/20\n",
      "11394/11394 [==============================] - 98s 9ms/step - loss: 0.6843 - binary_accuracy: 0.5744\n"
     ]
    }
   ],
   "source": [
    "emb_fn, clf, attri2vec_result, preds= train_and_evaluate(attri2vec_embedding)"
   ]
  },
  {
   "cell_type": "code",
   "execution_count": 272,
   "metadata": {},
   "outputs": [
    {
     "name": "stdout",
     "output_type": "stream",
     "text": [
      "0.9866384397099229\n"
     ]
    }
   ],
   "source": [
    "print(attri2vec_result)"
   ]
  },
  {
   "cell_type": "code",
   "execution_count": 273,
   "metadata": {},
   "outputs": [
    {
     "data": {
      "text/plain": [
       "(1490, 1490)"
      ]
     },
     "execution_count": 273,
     "metadata": {},
     "output_type": "execute_result"
    }
   ],
   "source": [
    "len(preds[:, 0]), len(labels_test)"
   ]
  },
  {
   "cell_type": "code",
   "execution_count": 215,
   "metadata": {},
   "outputs": [
    {
     "data": {
      "text/plain": [
       "(1490, 2)"
      ]
     },
     "execution_count": 215,
     "metadata": {},
     "output_type": "execute_result"
    }
   ],
   "source": [
    "examples_test.shape"
   ]
  },
  {
   "cell_type": "markdown",
   "metadata": {},
   "source": [
    "# Test"
   ]
  },
  {
   "cell_type": "code",
   "execution_count": 226,
   "metadata": {},
   "outputs": [],
   "source": [
    "# transport.nodes()"
   ]
  },
  {
   "cell_type": "code",
   "execution_count": 274,
   "metadata": {},
   "outputs": [
    {
     "data": {
      "text/plain": [
       "<dict_itemiterator at 0x1ce53154908>"
      ]
     },
     "execution_count": 274,
     "metadata": {},
     "output_type": "execute_result"
    }
   ],
   "source": [
    "transport.adjacency()"
   ]
  },
  {
   "cell_type": "code",
   "execution_count": 275,
   "metadata": {},
   "outputs": [
    {
     "data": {
      "text/plain": [
       "5083"
      ]
     },
     "execution_count": 275,
     "metadata": {},
     "output_type": "execute_result"
    }
   ],
   "source": [
    "adj_dict={}\n",
    "\n",
    "for n, ndict in transport.adjacency():\n",
    "    n_list=list(ndict.keys())\n",
    "    adj_dict[n]=n_list\n",
    "len(adj_dict)"
   ]
  },
  {
   "cell_type": "code",
   "execution_count": 276,
   "metadata": {},
   "outputs": [],
   "source": [
    "prediction_list=[]\n",
    "for node in transport.nodes():\n",
    "    existing_connect=adj_dict[node]\n",
    "    for node2 in transport.nodes():\n",
    "        if node2 not in existing_connect:\n",
    "            \n",
    "            prediction_list.append([node, node2])"
   ]
  },
  {
   "cell_type": "code",
   "execution_count": 277,
   "metadata": {},
   "outputs": [
    {
     "data": {
      "text/plain": [
       "25829430"
      ]
     },
     "execution_count": 277,
     "metadata": {},
     "output_type": "execute_result"
    }
   ],
   "source": [
    "len(prediction_list)"
   ]
  },
  {
   "cell_type": "code",
   "execution_count": 278,
   "metadata": {},
   "outputs": [],
   "source": [
    "from random import sample\n",
    "pred_arr=np.asarray(sample(prediction_list, 10000))"
   ]
  },
  {
   "cell_type": "markdown",
   "metadata": {},
   "source": [
    "# Misc"
   ]
  },
  {
   "cell_type": "code",
   "execution_count": 296,
   "metadata": {},
   "outputs": [
    {
     "name": "stdout",
     "output_type": "stream",
     "text": [
      "[['10201' '44589']\n",
      " ['47509' '84009']\n",
      " ['55509' '41131']\n",
      " ...\n",
      " ['22409' '12141']\n",
      " ['68171' '07571']\n",
      " ['24691' '56099']]\n"
     ]
    }
   ],
   "source": [
    "print(pred_arr)"
   ]
  },
  {
   "cell_type": "code",
   "execution_count": 297,
   "metadata": {},
   "outputs": [
    {
     "name": "stdout",
     "output_type": "stream",
     "text": [
      "Wall time: 41.9 s\n"
     ]
    }
   ],
   "source": [
    "%%time\n",
    "link_features_test = link_examples_to_features(\n",
    "        potential_connections, emb_fn, operator_l2\n",
    "    )\n",
    "predictions_prob = clf.predict_proba(link_features_test)\n",
    "predictions = clf.predict(link_features_test)"
   ]
  },
  {
   "cell_type": "code",
   "execution_count": 298,
   "metadata": {},
   "outputs": [
    {
     "data": {
      "image/png": "[encoded data removed]",
      "text/plain": [
       "<Figure size 640x480 with 1 Axes>"
      ]
     },
     "metadata": {},
     "output_type": "display_data"
    }
   ],
   "source": [
    "import matplotlib.pyplot as plt\n",
    "n, bins, patches = plt.hist(predictions)\n",
    "plt.show()"
   ]
  },
  {
   "cell_type": "code",
   "execution_count": 299,
   "metadata": {},
   "outputs": [
    {
     "data": {
      "image/png": "[encoded data removed]",
      "text/plain": [
       "<Figure size 640x480 with 1 Axes>"
      ]
     },
     "metadata": {},
     "output_type": "display_data"
    }
   ],
   "source": [
    "import matplotlib.pyplot as plt\n",
    "n, bins, patches = plt.hist(predictions_prob[:,1])\n",
    "plt.show()"
   ]
  },
  {
   "cell_type": "code",
   "execution_count": 300,
   "metadata": {},
   "outputs": [
    {
     "data": {
      "text/plain": [
       "{'whiskers': [<matplotlib.lines.Line2D at 0x1cf33113408>,\n",
       "  <matplotlib.lines.Line2D at 0x1cf33113ac8>],\n",
       " 'caps': [<matplotlib.lines.Line2D at 0x1cf33113d08>,\n",
       "  <matplotlib.lines.Line2D at 0x1cf33113248>],\n",
       " 'boxes': [<matplotlib.lines.Line2D at 0x1cf3357ebc8>],\n",
       " 'medians': [<matplotlib.lines.Line2D at 0x1cf33118948>],\n",
       " 'fliers': [<matplotlib.lines.Line2D at 0x1cf33118f48>],\n",
       " 'means': []}"
      ]
     },
     "execution_count": 300,
     "metadata": {},
     "output_type": "execute_result"
    },
    {
     "data": {
      "image/png": "[encoded data removed]",
      "text/plain": [
       "<Figure size 640x480 with 1 Axes>"
      ]
     },
     "metadata": {},
     "output_type": "display_data"
    }
   ],
   "source": [
    "plt.boxplot(predictions_prob[:,1])"
   ]
  },
  {
   "cell_type": "code",
   "execution_count": 301,
   "metadata": {},
   "outputs": [],
   "source": [
    "import pickle\n",
    "with open('potential_connections.pkl', 'rb') as f:\n",
    "    potential_connections = pickle.load(f)"
   ]
  },
  {
   "cell_type": "code",
   "execution_count": 302,
   "metadata": {},
   "outputs": [],
   "source": [
    "import pandas as pd"
   ]
  },
  {
   "cell_type": "code",
   "execution_count": 303,
   "metadata": {},
   "outputs": [
    {
     "data": {
      "text/plain": [
       "array([['70201', '71091'],\n",
       "       ['05019', '05259'],\n",
       "       ['43321', '28471'],\n",
       "       ...,\n",
       "       ['11139', '10421'],\n",
       "       ['54251', '54579'],\n",
       "       ['77051', '78221']], dtype='<U5')"
      ]
     },
     "execution_count": 303,
     "metadata": {},
     "output_type": "execute_result"
    }
   ],
   "source": [
    "potential_connections"
   ]
  },
  {
   "cell_type": "code",
   "execution_count": 304,
   "metadata": {},
   "outputs": [],
   "source": [
    "df=pd.DataFrame({\"Links\":[p for p in potential_connections], \"probability\": predictions_prob[:,1]})"
   ]
  },
  {
   "cell_type": "code",
   "execution_count": 305,
   "metadata": {},
   "outputs": [],
   "source": [
    "df.sort_values(by=[\"probability\"], ascending=False, inplace=True, ignore_index=True)"
   ]
  },
  {
   "cell_type": "code",
   "execution_count": 306,
   "metadata": {},
   "outputs": [],
   "source": [
    "df_save=df[:200]"
   ]
  },
  {
   "cell_type": "code",
   "execution_count": 307,
   "metadata": {},
   "outputs": [
    {
     "data": {
      "text/html": [
       "<div>\n",
       "<style scoped>\n",
       "    .dataframe tbody tr th:only-of-type {\n",
       "        vertical-align: middle;\n",
       "    }\n",
       "\n",
       "    .dataframe tbody tr th {\n",
       "        vertical-align: top;\n",
       "    }\n",
       "\n",
       "    .dataframe thead th {\n",
       "        text-align: right;\n",
       "    }\n",
       "</style>\n",
       "<table border=\"1\" class=\"dataframe\">\n",
       "  <thead>\n",
       "    <tr style=\"text-align: right;\">\n",
       "      <th></th>\n",
       "      <th>Links</th>\n",
       "      <th>probability</th>\n",
       "    </tr>\n",
       "  </thead>\n",
       "  <tbody>\n",
       "    <tr>\n",
       "      <th>0</th>\n",
       "      <td>[59091, 59599]</td>\n",
       "      <td>1.0</td>\n",
       "    </tr>\n",
       "    <tr>\n",
       "      <th>1</th>\n",
       "      <td>[59599, 59231]</td>\n",
       "      <td>1.0</td>\n",
       "    </tr>\n",
       "    <tr>\n",
       "      <th>2</th>\n",
       "      <td>[59599, 59351]</td>\n",
       "      <td>1.0</td>\n",
       "    </tr>\n",
       "    <tr>\n",
       "      <th>3</th>\n",
       "      <td>[03218, 10059]</td>\n",
       "      <td>1.0</td>\n",
       "    </tr>\n",
       "    <tr>\n",
       "      <th>4</th>\n",
       "      <td>[59599, 59579]</td>\n",
       "      <td>1.0</td>\n",
       "    </tr>\n",
       "  </tbody>\n",
       "</table>\n",
       "</div>"
      ],
      "text/plain": [
       "            Links  probability\n",
       "0  [59091, 59599]          1.0\n",
       "1  [59599, 59231]          1.0\n",
       "2  [59599, 59351]          1.0\n",
       "3  [03218, 10059]          1.0\n",
       "4  [59599, 59579]          1.0"
      ]
     },
     "execution_count": 307,
     "metadata": {},
     "output_type": "execute_result"
    }
   ],
   "source": [
    "df_save.head()"
   ]
  },
  {
   "cell_type": "code",
   "execution_count": 308,
   "metadata": {},
   "outputs": [],
   "source": [
    "df.to_csv(\"top_links.csv\", index=False)"
   ]
  },
  {
   "cell_type": "code",
   "execution_count": 293,
   "metadata": {},
   "outputs": [
    {
     "data": {
      "text/plain": [
       "{'type': 'bus_stop',\n",
       " 'latitude': 1.2740788888387,\n",
       " 'longitude': 103.84687388890413}"
      ]
     },
     "execution_count": 293,
     "metadata": {},
     "output_type": "execute_result"
    }
   ],
   "source": [
    "transport.nodes()['03218']"
   ]
  },
  {
   "cell_type": "code",
   "execution_count": 294,
   "metadata": {},
   "outputs": [
    {
     "data": {
      "text/plain": [
       "{'type': 'bus_stop',\n",
       " 'latitude': 1.28475980959972,\n",
       " 'longitude': 103.83405671725487}"
      ]
     },
     "execution_count": 294,
     "metadata": {},
     "output_type": "execute_result"
    }
   ],
   "source": [
    "transport.nodes()['06051']"
   ]
  },
  {
   "cell_type": "code",
   "execution_count": null,
   "metadata": {},
   "outputs": [],
   "source": []
  }
 ],
 "metadata": {
  "kernelspec": {
   "display_name": "Python 3.7.15 ('dpenv')",
   "language": "python",
   "name": "python3"
  },
  "language_info": {
   "codemirror_mode": {
    "name": "ipython",
    "version": 3
   },
   "file_extension": ".py",
   "mimetype": "text/x-python",
   "name": "python",
   "nbconvert_exporter": "python",
   "pygments_lexer": "ipython3",
   "version": "3.7.15"
  },
  "orig_nbformat": 4,
  "vscode": {
   "interpreter": {
    "hash": "73c609c9cef7ec5b13b7c2a96783a5fa7eefcdaabc1826a0f0098289b9b5d1a0"
   }
  }
 },
 "nbformat": 4,
 "nbformat_minor": 2
}
